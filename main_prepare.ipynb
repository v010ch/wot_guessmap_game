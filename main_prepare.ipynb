{
 "cells": [
  {
   "cell_type": "code",
   "execution_count": 1,
   "id": "c78abff9-e440-4806-b65d-725660425520",
   "metadata": {},
   "outputs": [],
   "source": [
    "%load_ext autoreload\n",
    "%autoreload 2"
   ]
  },
  {
   "cell_type": "code",
   "execution_count": 5,
   "id": "f789832d-ebb7-42fe-b343-fe96abb73732",
   "metadata": {},
   "outputs": [],
   "source": [
    "from utils import create_path_structure"
   ]
  },
  {
   "cell_type": "code",
   "execution_count": null,
   "id": "816ca7bb-2136-479f-b1c2-a971ee72fffb",
   "metadata": {},
   "outputs": [],
   "source": []
  },
  {
   "cell_type": "code",
   "execution_count": null,
   "id": "af3fbaa2-eb7d-4851-b3bf-0960d13d0b84",
   "metadata": {},
   "outputs": [],
   "source": []
  },
  {
   "cell_type": "code",
   "execution_count": 3,
   "id": "35b5e132-18b9-4994-8f41-bdd0fd61edbc",
   "metadata": {},
   "outputs": [],
   "source": [
    "if __name__ == '__main__':\n",
    "    create_path_structure()\n"
   ]
  },
  {
   "cell_type": "code",
   "execution_count": 4,
   "id": "8a17fe8f-efe9-4b39-b389-f081c68cf0d6",
   "metadata": {},
   "outputs": [],
   "source": []
  }
 ],
 "metadata": {
  "kernelspec": {
   "display_name": "wot",
   "language": "python",
   "name": "wot"
  },
  "language_info": {
   "codemirror_mode": {
    "name": "ipython",
    "version": 3
   },
   "file_extension": ".py",
   "mimetype": "text/x-python",
   "name": "python",
   "nbconvert_exporter": "python",
   "pygments_lexer": "ipython3",
   "version": "3.12.8"
  }
 },
 "nbformat": 4,
 "nbformat_minor": 5
}
