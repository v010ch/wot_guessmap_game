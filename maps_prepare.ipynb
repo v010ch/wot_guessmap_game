{
 "cells": [
  {
   "cell_type": "code",
   "execution_count": null,
   "id": "785d7a50-844a-4c5d-b06d-dbc62a15b6cc",
   "metadata": {},
   "outputs": [],
   "source": []
  },
  {
   "cell_type": "code",
   "execution_count": 1,
   "id": "1bbeb3cf-1da4-4d33-905b-20050e85f25a",
   "metadata": {},
   "outputs": [],
   "source": [
    "import json\n",
    "#import numpy as np\n",
    "import os\n",
    "import time\n",
    "from typing import Optional\n",
    "#from tqdm.notebook import tqdm\n",
    "\n",
    "import cv2\n",
    "import pandas as pd"
   ]
  },
  {
   "cell_type": "code",
   "execution_count": null,
   "id": "3267d6df-3e3c-4984-bc8c-1191daf1677b",
   "metadata": {},
   "outputs": [],
   "source": []
  },
  {
   "cell_type": "code",
   "execution_count": 2,
   "id": "f001870c-e788-4d34-a611-d427b1d52efd",
   "metadata": {},
   "outputs": [],
   "source": [
    "DATA_PATH = os.path.join('.', 'data')"
   ]
  },
  {
   "cell_type": "code",
   "execution_count": null,
   "id": "edfd6f42-d276-43db-b639-90ab4ee79367",
   "metadata": {},
   "outputs": [],
   "source": []
  },
  {
   "cell_type": "code",
   "execution_count": null,
   "id": "b564d5a6-6c0f-4b5e-927a-93fad8556a01",
   "metadata": {},
   "outputs": [],
   "source": []
  },
  {
   "cell_type": "code",
   "execution_count": 3,
   "id": "f515a713-2722-4ad4-9ef8-1248e7a7226c",
   "metadata": {},
   "outputs": [],
   "source": [
    "COLS = ['map_name', 'battle_type', 'sub_number',\n",
    "        'hard_level', 'tank_levels', 'base',\n",
    "        'duration', 'frame_count',\n",
    "        'battle_start', 'countdown',\n",
    "        'battle_end', 'results',\n",
    "        'parent_map',\n",
    "]"
   ]
  },
  {
   "cell_type": "code",
   "execution_count": 4,
   "id": "f05a23d9-f16f-44a3-aaec-7c65f8a2ec90",
   "metadata": {},
   "outputs": [],
   "source": [
    "class MapPrepareClass():\n",
    "    def __init__(self, wrk_folder: Optional[str] = ''):\n",
    "        if wrk_folder != '':\n",
    "            ## SECURE PATH WITH from werkzeug.utils import secure_filename??\n",
    "            self.__DATA_PATH = os.path.join('.', wrk_folder)\n",
    "        else:\n",
    "            self.__DATA_PATH = os.path.join('.', 'data')\n",
    "        self.__VIDEO_PATH = os.path.join(self.__DATA_PATH, 'video_initial')\n",
    "        self.__NEW_VIDEO_PATH = os.path.join(self.__DATA_PATH, 'video_to_add')\n",
    "\n",
    "        if not os.path.exists(self.__DATA_PATH):\n",
    "            os.mkdir(self.__DATA_PATH)\n",
    "            print(f'created path: {self.__DATA_PATH}')\n",
    "        if not os.path.exists(self.__VIDEO_PATH):\n",
    "            os.mkdir(self.__VIDEO_PATH)\n",
    "            print(f'created path: {self.__VIDEO_PATH}')\n",
    "        if not os.path.exists(self.__NEW_VIDEO_PATH):\n",
    "            os.mkdir(self.__NEW_VIDEO_PATH)\n",
    "            print(f'created path: {self.__NEW_VIDEO_PATH}')\n",
    "\n",
    "        self.__add_all = False\n",
    "        pass\n",
    "\n",
    "\n",
    "\n",
    "    def set_add_all(self, inp_val: bool):\n",
    "        self.__add_all = inp_val\n",
    "        return 0\n",
    "\n",
    "\n",
    "\n",
    "    def __calc_max_subnumbers(self, is_new: bool = True):\n",
    "\n",
    "        if is_new:\n",
    "            self.__max_subidx = {}\n",
    "            #for el in product(MAP_NAMES, BATTLE_TYPES):\n",
    "            #    self.__max_subidx[\"_\".join(el)] = 0\n",
    "        else:\n",
    "            if os.path.exists(os.path.join(DATA_PATH, 'max_subidx.json')):\n",
    "                with open(os.path.join(DATA_PATH, 'max_subidx.json'), 'r+') as fd:\n",
    "                    self.__max_subidx = json.load(fd)\n",
    "            else:\n",
    "                print('error: map_status.json is absent!')\n",
    "\n",
    "        return 0\n",
    "\n",
    "\n",
    "\n",
    "    def __add_new_map_bt_dialogue(self, map_name: str, map_type: str) -> bool:\n",
    "\n",
    "        if self.__add_all:\n",
    "            return True\n",
    "\n",
    "        print('Обнаружена новая пара имя_карты - тип_битвы:')\n",
    "        print(\"_\".join((map_name, map_type)))\n",
    "        print('Добавить?')\n",
    "        val = input('[y] - добавить / [n] - пропустить')\n",
    "\n",
    "        if len(val) > 3:\n",
    "            val = val[:3]\n",
    "\n",
    "        if val == 'y' or val == 'yes' or val == 'add':\n",
    "            return True\n",
    "        elif val == 'n' or val == 'no':\n",
    "            return False\n",
    "        else:\n",
    "            print('Выбран неизвестный вариант. Пропускаю.')\n",
    "            print('Вы можете добавить эту пару позднее.')\n",
    "            return False\n",
    "        \n",
    "        \n",
    "\n",
    "    def add_initial_maps(self, del_original: Optional[bool]=True) -> int:\n",
    "\n",
    "        maps_to_add = os.listdir(self.__NEW_VIDEO_PATH)\n",
    "        if len(maps_to_add) == 0:\n",
    "            print('Nothing to add')\n",
    "            return 0\n",
    "\n",
    "        if os.path.exists(os.path.join(DATA_PATH, 'prepared_maps_info.csv')):\n",
    "            prepared_maps_info = pd.read_csv(os.path.join(DATA_PATH, 'prepared_maps_info.csv'))\n",
    "            self.__calc_max_subnumbers(False)\n",
    "        else:\n",
    "            prepared_maps_info = pd.DataFrame(columns=COLS)\n",
    "            self.__calc_max_subnumbers(True)\n",
    "\n",
    "        tmp_df = pd.DataFrame(columns=COLS, index=range(len(maps_to_add)))\n",
    "        idx = 0\n",
    "        for el in maps_to_add:\n",
    "            info = self.get_video_info(el)\n",
    "            map_name = info['map_name']\n",
    "            battle_type = info['battle_type']\n",
    "            print(map_name, battle_type)\n",
    "            #subnumber = self.__max_subidx[\"_\".join((map_name, map_type))]\n",
    "            if \"_\".join((map_name, battle_type)) not in self.__max_subidx.keys():\n",
    "                add = self.__add_new_map_bt_dialogue(map_name, battle_type)\n",
    "                if not add:\n",
    "                    continue\n",
    "                else:\n",
    "                    self.__max_subidx[\"_\".join((map_name, battle_type))] = 0\n",
    "                \n",
    "            subnumber = self.__max_subidx[\"_\".join((map_name, battle_type))]\n",
    "            #tmp_df.loc[idx] = {'map_name': map_name,\n",
    "            #                   'battle_type': map_type, \n",
    "            #                   'sub_number':  subnumber,\n",
    "            #                  }\n",
    "            info['sub_number'] = subnumber\n",
    "            tmp_df.loc[idx] = info\n",
    "            self.__max_subidx['_'.join((map_name, battle_type))] += 1\n",
    "            new_filename = f'{map_name}_{battle_type}_{str(subnumber).zfill(5)}.mp4'\n",
    "            os.rename(os.path.join(self.__NEW_VIDEO_PATH, el), \n",
    "                      os.path.join(self.__NEW_VIDEO_PATH, new_filename)\n",
    "                     )\n",
    "            idx += 1\n",
    "\n",
    "        tmp_df.dropna(axis=0, how='all', inplace=True)\n",
    "        prepared_maps_info = pd.concat((prepared_maps_info, tmp_df))\n",
    "        #print(tmp)\n",
    "        #print(self.__max_subidx)\n",
    "        with open(os.path.join(DATA_PATH, 'max_subidx.json'), 'w') as fd:\n",
    "            json.dump(self.__max_subidx, fd)\n",
    "        prepared_maps_info.to_csv(os.path.join(DATA_PATH, 'prepared_maps_info.csv'), index=False)\n",
    "\n",
    "        # copy to dest folder with next index\n",
    "\n",
    "        return 0\n",
    "\n",
    "\n",
    "\n",
    "    def get_video_info(self, inp_filename: str) -> dict:\n",
    "        # rewwrite to getting from video frames\n",
    "        ret = {el: '' for el in COLS}\n",
    "        \n",
    "        tmp = inp_filename.split('.')[0]. \\\n",
    "                           split('_')[:-1]\n",
    "        ret['map_name'] = '_'.join(tmp).lower()\n",
    "        ret['battle_type'] = inp_filename.split('.')[0]. \\\n",
    "                                          split('_')[-1].\\\n",
    "                                          split('(')[0].\\\n",
    "                                          strip().\\\n",
    "                                          lower()\n",
    "\n",
    "        tmp = cv2.VideoCapture(os.path.join(self.__NEW_VIDEO_PATH, inp_filename))\n",
    "        ret['frame_count'] = int(tmp.get(cv2.CAP_PROP_FRAME_COUNT))\n",
    "        tmp.release()\n",
    "        time.sleep(0.1)\n",
    "        \n",
    "        return ret"
   ]
  },
  {
   "cell_type": "code",
   "execution_count": null,
   "id": "b2e39ab9-7338-4ac6-810b-7384be3e4c80",
   "metadata": {},
   "outputs": [],
   "source": []
  },
  {
   "cell_type": "code",
   "execution_count": 5,
   "id": "a41e5549-3773-41ad-ab66-23fa0b25d94d",
   "metadata": {},
   "outputs": [],
   "source": [
    "#COLS"
   ]
  },
  {
   "cell_type": "code",
   "execution_count": 6,
   "id": "5d154148-cc24-4d9b-8223-b26ff1fc8d1c",
   "metadata": {},
   "outputs": [],
   "source": [
    "map_prepare = MapPrepareClass()"
   ]
  },
  {
   "cell_type": "code",
   "execution_count": 7,
   "id": "f41e978b-5c4b-4da8-b4fb-94a76e6bf29f",
   "metadata": {},
   "outputs": [
    {
     "data": {
      "text/plain": [
       "0"
      ]
     },
     "execution_count": 7,
     "metadata": {},
     "output_type": "execute_result"
    }
   ],
   "source": [
    "map_prepare.set_add_all(True)"
   ]
  },
  {
   "cell_type": "code",
   "execution_count": 8,
   "id": "283bed55-eb0c-4718-8216-ec1a79fef2e5",
   "metadata": {},
   "outputs": [
    {
     "name": "stdout",
     "output_type": "stream",
     "text": [
      "airfield standart\n",
      "airfield standart\n",
      "airfield standart\n",
      "asia_great_wall standart\n",
      "asia_miao counter\n",
      "asia_miao standart\n",
      "canada standart\n",
      "caucasus standart\n",
      "cliff standart\n",
      "czech standart\n",
      "desert standart\n",
      "el_hallouf standart\n",
      "ensk standart\n",
      "erlenberg assault\n",
      "fjord standart\n",
      "germany standart\n",
      "hills counter\n",
      "himmelsdorf standart\n",
      "hz standart\n",
      "hz standart\n",
      "hz standart\n",
      "japort standart\n",
      "kamchatka standart\n",
      "karelia assault\n",
      "karelia assault\n",
      "karelia assault\n",
      "karelia assault\n",
      "karelia standart\n",
      "lakeville counter\n",
      "lakeville standart\n",
      "lakeville standart\n",
      "lost_paradise_v standart\n",
      "lost_paradise_v standart\n",
      "lost_paradise_v standart\n",
      "malinovka standart\n",
      "mannerheim_line standart\n",
      "monastery standart\n",
      "north_america standart\n",
      "north_america standart\n",
      "north_america standart\n",
      "steppes standart\n",
      "steppes standart\n",
      "sweden standart\n"
     ]
    },
    {
     "data": {
      "text/plain": [
       "0"
      ]
     },
     "execution_count": 8,
     "metadata": {},
     "output_type": "execute_result"
    }
   ],
   "source": [
    "map_prepare.add_initial_maps()"
   ]
  },
  {
   "cell_type": "code",
   "execution_count": null,
   "id": "c21cfeb6-3906-4f84-a277-a01e821dfd0d",
   "metadata": {},
   "outputs": [],
   "source": []
  },
  {
   "cell_type": "code",
   "execution_count": null,
   "id": "c3393027-168a-434e-bab7-6a46557f3f76",
   "metadata": {},
   "outputs": [],
   "source": []
  },
  {
   "cell_type": "code",
   "execution_count": null,
   "id": "579a981d-b8e9-4848-a1ae-77215fe9c5e1",
   "metadata": {},
   "outputs": [],
   "source": []
  },
  {
   "cell_type": "code",
   "execution_count": 9,
   "id": "dfe71f70-4959-4f80-b953-06498d082f19",
   "metadata": {},
   "outputs": [
    {
     "data": {
      "text/plain": [
       "25"
      ]
     },
     "execution_count": 9,
     "metadata": {},
     "output_type": "execute_result"
    }
   ],
   "source": [
    "41-16"
   ]
  },
  {
   "cell_type": "code",
   "execution_count": null,
   "id": "f26388ba-e452-4789-ab5d-e6509b92ceba",
   "metadata": {},
   "outputs": [],
   "source": []
  }
 ],
 "metadata": {
  "kernelspec": {
   "display_name": "wot",
   "language": "python",
   "name": "wot"
  },
  "language_info": {
   "codemirror_mode": {
    "name": "ipython",
    "version": 3
   },
   "file_extension": ".py",
   "mimetype": "text/x-python",
   "name": "python",
   "nbconvert_exporter": "python",
   "pygments_lexer": "ipython3",
   "version": "3.12.8"
  }
 },
 "nbformat": 4,
 "nbformat_minor": 5
}
