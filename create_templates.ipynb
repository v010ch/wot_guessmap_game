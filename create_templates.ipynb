{
 "cells": [
  {
   "cell_type": "code",
   "execution_count": null,
   "id": "d01263d1-c56c-4ee0-901f-edfe41028921",
   "metadata": {},
   "outputs": [],
   "source": []
  },
  {
   "cell_type": "code",
   "execution_count": null,
   "id": "aa29e742-9cc0-4d2a-bdc9-685c8b499295",
   "metadata": {},
   "outputs": [],
   "source": [
    "import os\n",
    "import json\n",
    "import numpy as np\n",
    "import pandas as pd\n",
    "\n",
    "from typing import Optional\n",
    "\n",
    "import cv2\n",
    "from tqdm.notebook import tqdm"
   ]
  },
  {
   "cell_type": "code",
   "execution_count": null,
   "id": "88c858d0-49d2-4c1b-912f-cc297f844e90",
   "metadata": {},
   "outputs": [],
   "source": []
  },
  {
   "cell_type": "code",
   "execution_count": null,
   "id": "1f379945-da67-4151-9d5f-608ace9c1e12",
   "metadata": {},
   "outputs": [],
   "source": []
  },
  {
   "cell_type": "code",
   "execution_count": null,
   "id": "2a3ab723-2b8b-4bb0-b301-98be4cec1cfc",
   "metadata": {},
   "outputs": [],
   "source": [
    "class CreateTemplatesClass():\n",
    "    def __init__(self, inp_data_path: Optional[str]='', \n",
    "                       inp_video_path: Optional[str]='', \n",
    "                       inp_templates_path: Optional[str]='', \n",
    "                ) -> None:\n",
    "\n",
    "        if inp_data_path != '':\n",
    "            self.__DATA_PATH = inp_data_path\n",
    "        else:\n",
    "            self.__DATA_PATH = os.path.join('.', 'data')\n",
    "\n",
    "        if inp_video_path != '':\n",
    "            self.__VIDEO_PATH = inp_video_path\n",
    "        else:\n",
    "            self.__VIDEO_PATH = os.path.join(self.__DATA_PATH, 'video_initial')\n",
    "\n",
    "        if inp_templates_path != '':\n",
    "            self.__TEMPLATES_PATH = inp_templates_path\n",
    "        else:\n",
    "            self.__TEMPLATES_PATH = os.path.join(self.__DATA_PATH, 'templates')\n",
    "\n",
    "        if not os.path.exists(os.path.join(self.__DATA_PATH, 'tmp')):\n",
    "            os.mkdir(os.path.join(self.__DATA_PATH, 'tmp'))\n",
    "        self.__TMP_FRAMES = os.path.join(self.__DATA_PATH, 'tmp')\n",
    "            \n",
    "        self.__tqdm_disable = False\n",
    "\n",
    "\n",
    "\n",
    "    def preload_info(self, ) -> None:\n",
    "        with open(os.path.join(self.__DATA_PATH, 'maps_info.json'), 'r') as fd:\n",
    "            map_info = json.load(fd)\n",
    "            self.__ALL_MAP_NAMES = map_info['all_map_names']\n",
    "\n",
    "        path_to_map_info = os.path.join(self.__DATA_PATH, 'prepared_maps_info.csv')\n",
    "        if not os.path.exists(path_to_map_info):\n",
    "            print('Retire!')\n",
    "        else:\n",
    "            self.__map_info_df = pd.read_csv(path_to_map_info)\n",
    "            #self.__map_info_df.shape\n",
    "\n",
    "\n",
    "\n",
    "    def set_tqdm(self, inp_val: bool) -> None:\n",
    "        self.__tqdm_disable = inp_val\n",
    "\n",
    "\n",
    "\n",
    "    def get_param(self, param_name: str):\n",
    "        if f'_CreateTemplatesClass{param_name}' in self.__dict__.keys():\n",
    "            return self.__dict__[f'_CreateTemplatesClass{param_name}']\n",
    "        else:\n",
    "           return 'У класса нат запрашиваемого параметра.'\n",
    "\n",
    "\n",
    "\n",
    "    def cut_frame(self, inp_frame: np.ndarray, inp_type: str) -> np.ndarray:\n",
    "        # now only for resolution 1920 x 1080\n",
    "        # and max mini map size\n",
    "        if inp_type == 'map_name':\n",
    "            inp_frame = inp_frame[260:339, 816:902, :]   # recheck for all map names [260:339, 816:912, :]\n",
    "        elif inp_type == 'battle_type':\n",
    "            inp_frame = inp_frame[259:339, 1018:1416, :] # recheck for all battle types 259:339, 1010:1416, :]\n",
    "        elif inp_type == 'battle_type_icon':\n",
    "            inp_frame = inp_frame[251:348, 912:1010, :]\n",
    "        elif inp_type =='map_upper_plank':\n",
    "            inp_frame = inp_frame[-626:-612, -626:, :]\n",
    "        elif inp_type == 'start_frame':\n",
    "            tmp_frame_allies  = inp_frame[340:378, 462:738, :]\n",
    "            tmp_frame_enemies = inp_frame[340:378, 1186:1462, :]\n",
    "            inp_frame = np.concatenate((tmp_frame_allies, tmp_frame_enemies))\n",
    "        elif inp_type == 'battle_data_start_allies':\n",
    "            inp_frame = inp_frame[340:730, 460:740, :]\n",
    "        elif inp_type == 'battle_data_start_enemies':\n",
    "            inp_frame = inp_frame[340:730, 1186:1462, :]\n",
    "        elif inp_type == 'results':\n",
    "            inp_frame = inp_frame#[340:730, 1186:1462, :]\n",
    "        else:\n",
    "            return inp_frame\n",
    "    \n",
    "        return inp_frame\n",
    "\n",
    "\n",
    "\n",
    "    def generate_frames(self, \n",
    "                        inp_map: str, \n",
    "                        start: int, \n",
    "                        inp_type: str,\n",
    "                        max_idx: Optional[int] = 3000,\n",
    "                        inp_sub_path: Optional[str] = '', \n",
    "                        max_file_idx: Optional[int] = 40, \n",
    "                       ) -> int:\n",
    "    \n",
    "    \n",
    "        if inp_sub_path != '':\n",
    "            path_to_save = os.path.join(self.__TMP_FRAMES, inp_sub_path)\n",
    "        else:\n",
    "            path_to_save = os.path.join(self.__TMP_FRAMES, inp_map)\n",
    "        print(path_to_save)\n",
    "    \n",
    "        if not os.path.exists(path_to_save):\n",
    "            #print(f'Path {path_to_save} not exists. Please create it before new start.')\n",
    "            print(f'Путь {path_to_save} не существует. Создаю.')\n",
    "            os.mkdir(path_to_save)\n",
    "            if not os.path.exists(path_to_save):\n",
    "                return -1\n",
    "    \n",
    "        idx = 0\n",
    "        for el in self.__map_info_df.sample(frac=1).iterrows():\n",
    "            filename = f'{el[1][\"map_name\"]}_{el[1][\"battle_type\"]}_{el[1][\"sub_number\"]:05d}.mp4'\n",
    "            if inp_map.lower() != 'all':\n",
    "                if not inp_map.lower() in filename:\n",
    "                    #print(f'Пропускаю {filename}')\n",
    "                    continue\n",
    "    \n",
    "            if start == 0: \n",
    "                start_time = 0\n",
    "                end_time = el[1]['battle_start']\n",
    "            elif start == 1:\n",
    "                start_time = el[1]['battle_start']\n",
    "                end_time = el[1]['battle_end']\n",
    "            else:\n",
    "                start_time = el[1]['battle_end']\n",
    "                end_time = el[1]['duration']\n",
    "\n",
    "            #print(f'from {start_time} to {end_time}')\n",
    "            video = cv2.VideoCapture(os.path.join(self.__VIDEO_PATH, filename))\n",
    "            fps = video.get(cv2.CAP_PROP_FPS)\n",
    "            max_frames = video.get(cv2.CAP_PROP_FRAME_COUNT)\n",
    "    \n",
    "            file_idx = 0\n",
    "            for index in tqdm(range((start_time + 1)*3, (end_time - 1)*3),  \n",
    "                              desc=filename, disable = self.__tqdm_disable,\n",
    "                              leave=False):\n",
    "                offset = int(index * fps / 3)\n",
    "                if offset > max_frames:\n",
    "                    print(f'Too big offset {offset} vs {max_frames}')\n",
    "                    continue\n",
    "                #print(f'{index} and {offset}')\n",
    "    \n",
    "                video.set(cv2.CAP_PROP_POS_FRAMES, offset)\n",
    "                _, frame = video.read()\n",
    "                frame = self.cut_frame(frame, inp_type)\n",
    "                if inp_sub_path != '':\n",
    "                    cv2.imwrite(os.path.join(path_to_save, f'{inp_sub_path}_{idx}.png'), frame)\n",
    "                else:\n",
    "                    cv2.imwrite(os.path.join(path_to_save, f'{inp_map}_{idx}.png'), frame)\n",
    "    \n",
    "                idx += 1\n",
    "                file_idx += 1\n",
    "                if file_idx > max_file_idx:\n",
    "                    #print('exit on max file idx')\n",
    "                    break\n",
    "                \n",
    "                if (max_idx > 0 and idx >= max_idx):\n",
    "                    print('exit on max idx')\n",
    "                    return 0\n",
    "            \n",
    "        return 0\n",
    "\n",
    "\n",
    "\n",
    "    def create_aver_template(self, inp_path: str):\n",
    "\n",
    "        if not os.path.exists(inp_path):\n",
    "            print('Заланный путь не сушествует / Не ыерно задан путь.')\n",
    "            return -1\n",
    "\n",
    "        filelist = [file for file in os.listdir(inp_path) if file.endswith('.png')]\n",
    "        if len(filelist) == 0:\n",
    "            print('Пустая папка. Нет кадров для усреднения.')\n",
    "            return -1\n",
    "\n",
    "        filename = inp_path.split('\\\\')[-1] + '_template.png'\n",
    "    \n",
    "        frame = cv2.imread(os.path.join(path, filelist[0]))\n",
    "        shape = (len(filelist), frame.shape[0], frame.shape[1], frame.shape[2])\n",
    "        all_frames = np.zeros(shape)\n",
    "    \n",
    "        for idx, el in tqdm(enumerate(filelist), total=len(filelist), \n",
    "                            disable = self.__tqdm_disable,\n",
    "                           ):\n",
    "            frame = cv2.imread(os.path.join(inp_path, el))\n",
    "            all_frames[idx] = frame\n",
    "    \n",
    "        aver_frame = np.mean(all_frames, axis = 0)\n",
    "        aver_frame = aver_frame.astype(np.uint8)\n",
    "        \n",
    "        cv2.imwrite(os.path.join(self.__TEMPLATES_PATH, filename), aver_frame)\n",
    "\n",
    "        return 0\n",
    "\n",
    "\n",
    "\n",
    "    def check_info(self):\n",
    "\n",
    "        missed_files = []\n",
    "        for row in self.__map_info_df.iterrows():\n",
    "            filename = f'{row[1][\"map_name\"]}_{row[1][\"battle_type\"]}_{row[1][\"sub_number\"]:05d}.mp4'\n",
    "            filepath = os.path.join(self.__VIDEO_PATH, filename)\n",
    "\n",
    "            if not os.path.exists(filepath):\n",
    "                missed_files.append(filename)\n",
    "\n",
    "        if len(missed_files) > 0:\n",
    "            missed_files = sorted(missed_files)\n",
    "            return -1, missed_files\n",
    "\n",
    "        return 0, []"
   ]
  },
  {
   "cell_type": "code",
   "execution_count": null,
   "id": "a55bd58a-f2a3-4c7c-9e62-facfdf9e0fcd",
   "metadata": {},
   "outputs": [],
   "source": []
  },
  {
   "cell_type": "code",
   "execution_count": null,
   "id": "64094715-69f8-4132-b8f3-0fb116bcfa37",
   "metadata": {},
   "outputs": [],
   "source": [
    "crete_templates = CreateTemplatesClass()"
   ]
  },
  {
   "cell_type": "markdown",
   "id": "905d3be6-4071-4d2d-8463-4c053a955372",
   "metadata": {},
   "source": [
    "Загружаю имена всех карт"
   ]
  },
  {
   "cell_type": "code",
   "execution_count": null,
   "id": "2afa955f-b5cc-4c2d-bde7-220db965b5df",
   "metadata": {},
   "outputs": [],
   "source": [
    "crete_templates.preload_info()"
   ]
  },
  {
   "cell_type": "code",
   "execution_count": null,
   "id": "2fd880b2-f8bb-4f37-8bf1-331098dff963",
   "metadata": {},
   "outputs": [],
   "source": [
    "#crete_templates.get_param('__ALL_MAP_NAMES')"
   ]
  },
  {
   "cell_type": "code",
   "execution_count": null,
   "id": "b3b16711-b647-4dde-ac07-496c91c10313",
   "metadata": {},
   "outputs": [],
   "source": [
    "#crete_templates.get_param('__map_info_df')"
   ]
  },
  {
   "cell_type": "code",
   "execution_count": null,
   "id": "41d71da0-0cbd-4341-90e4-02e70fec1352",
   "metadata": {},
   "outputs": [],
   "source": []
  },
  {
   "cell_type": "markdown",
   "id": "581d07f3-b029-4908-bea9-9309fe6dc7ca",
   "metadata": {},
   "source": [
    "generate_frames(inp_df: pd.DataFrame,  \n",
    "                    inp_map: str,  \n",
    "                    start: int,  \n",
    "                    inp_type: str,  \n",
    "                    max_idx: Optional[int] = 2000,  \n",
    "                    inp_sub_path: Optional[str] = '',   \n",
    "                    max_file_idx: Optional[int] = 20,  \n",
    "                   ) -> int:"
   ]
  },
  {
   "cell_type": "code",
   "execution_count": null,
   "id": "c691b712-e436-41ac-a4db-3792287391ec",
   "metadata": {},
   "outputs": [],
   "source": [
    "BATTLE_TYPES = ['assault', 'counter', 'standart']"
   ]
  },
  {
   "cell_type": "raw",
   "id": "6535337e-8e43-4df2-9876-5c048fefdd34",
   "metadata": {},
   "source": [
    "for el in tqdm(BATTLE_TYPES):\n",
    "    crete_templates.generate_frames(el, 0, 'battle_type', max_file_idx=200)\n",
    "    crete_templates.generate_frames(el, 0, 'battle_type_icon', max_file_idx=200)"
   ]
  },
  {
   "cell_type": "code",
   "execution_count": null,
   "id": "4cab3254-82b2-4d0b-866b-425766ff8429",
   "metadata": {},
   "outputs": [],
   "source": []
  },
  {
   "cell_type": "raw",
   "id": "2e9331d9-2459-4416-bb8f-819394c5cdc3",
   "metadata": {},
   "source": [
    "path = os.path.join('.', 'data', 'tmp', 'counter')\n",
    "crete_templates.create_aver_template(path)"
   ]
  },
  {
   "cell_type": "code",
   "execution_count": null,
   "id": "db7cddd6-732e-4b9b-be7b-6c1fd5661757",
   "metadata": {},
   "outputs": [],
   "source": []
  },
  {
   "cell_type": "code",
   "execution_count": null,
   "id": "259a3b8d-6d17-455d-a0a2-ffee6fc662ef",
   "metadata": {},
   "outputs": [],
   "source": [
    "tmp_a, tmp_b = crete_templates.check_info()"
   ]
  },
  {
   "cell_type": "code",
   "execution_count": null,
   "id": "d7521dcd-75f8-4300-8345-53a40fba305e",
   "metadata": {},
   "outputs": [],
   "source": [
    "tmp_b"
   ]
  },
  {
   "cell_type": "code",
   "execution_count": null,
   "id": "a0983aef-bf6e-4e51-8e24-156b55535eed",
   "metadata": {},
   "outputs": [],
   "source": []
  },
  {
   "cell_type": "code",
   "execution_count": null,
   "id": "653a466f-a219-4261-b09e-b241f56ccd01",
   "metadata": {},
   "outputs": [],
   "source": []
  },
  {
   "cell_type": "raw",
   "id": "11be6303-b962-4a4d-83df-d21760b48664",
   "metadata": {},
   "source": [
    "crete_templates.generate_frames('all', 0, 'battle_data_start_allies', inp_sub_path='battle_data_start_allies')  \n",
    "crete_templates.generate_frames('all', 0, 'battle_data_start_enemies', inp_sub_path='battle_data_start_enemies')"
   ]
  },
  {
   "cell_type": "code",
   "execution_count": null,
   "id": "0b6cc7ef-de96-43f5-891e-1ed1ac3c41e6",
   "metadata": {},
   "outputs": [],
   "source": []
  },
  {
   "cell_type": "markdown",
   "id": "bf30f716-09d2-4e04-8c14-6d8701db511c",
   "metadata": {},
   "source": []
  },
  {
   "cell_type": "code",
   "execution_count": null,
   "id": "a9e2c55e-0fc2-4771-aeb6-ddbcca9ab0d2",
   "metadata": {},
   "outputs": [],
   "source": [
    "crete_templates.generate_frames('all', 0, 'start_frame', inp_sub_path='start_frame')\n",
    "crete_templates.generate_frames('all', 1, 'map_upper_plank', inp_sub_path='map_upper_plank')"
   ]
  },
  {
   "cell_type": "code",
   "execution_count": null,
   "id": "0f12fb34-4d52-4080-bfce-00021debc8ae",
   "metadata": {},
   "outputs": [],
   "source": []
  },
  {
   "cell_type": "code",
   "execution_count": null,
   "id": "51f94022-3ed0-4ad3-82f1-db3b156331cb",
   "metadata": {},
   "outputs": [],
   "source": []
  },
  {
   "cell_type": "code",
   "execution_count": null,
   "id": "58e8d8a5-73ec-4309-a20f-cf4b805a47b3",
   "metadata": {},
   "outputs": [],
   "source": [
    "path = os.path.join('.', 'data', 'tmp', 'map_upper_plank')\n",
    "crete_templates.create_aver_template(path)"
   ]
  },
  {
   "cell_type": "code",
   "execution_count": null,
   "id": "6a496570-fa1f-4104-9242-e27586c747ed",
   "metadata": {},
   "outputs": [],
   "source": []
  }
 ],
 "metadata": {
  "kernelspec": {
   "display_name": "wot",
   "language": "python",
   "name": "wot"
  },
  "language_info": {
   "codemirror_mode": {
    "name": "ipython",
    "version": 3
   },
   "file_extension": ".py",
   "mimetype": "text/x-python",
   "name": "python",
   "nbconvert_exporter": "python",
   "pygments_lexer": "ipython3",
   "version": "3.12.8"
  }
 },
 "nbformat": 4,
 "nbformat_minor": 5
}
